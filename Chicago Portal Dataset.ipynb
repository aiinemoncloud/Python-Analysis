{
  "metadata": {
    "kernelspec": {
      "name": "python",
      "display_name": "Python (Pyodide)",
      "language": "python"
    },
    "language_info": {
      "codemirror_mode": {
        "name": "python",
        "version": 3
      },
      "file_extension": ".py",
      "mimetype": "text/x-python",
      "name": "python",
      "nbconvert_exporter": "python",
      "pygments_lexer": "ipython3",
      "version": "3.8"
    }
  },
  "nbformat_minor": 4,
  "nbformat": 4,
  "cells": [
    {
      "cell_type": "markdown",
      "source": "# Data Analysis on Real World Data-set with SQL and Python\nThis code loads a dataset into a SQL database using Pandas Dataframes and performs some simple querries using SQL Magic",
      "metadata": {}
    },
    {
      "cell_type": "markdown",
      "source": "We will be using three datasets that are available on the city of Chicago's Data Portal:\n\nSocioeconomic Indicators in Chicago: https://data.cityofchicago.org/Health-Human-Services/Census-Data-Selected-socioeconomic-indicators-in-C/kn9c-c2s2\n\nChicago Public Schools: https://data.cityofchicago.org/Education/Chicago-Public-Schools-Progress-Report-Cards-2011-/9xs2-f89t\n\nChicago Crime Data: https://data.cityofchicago.org/Public-Safety/Crimes-2001-to-present/ijzp-q8t2",
      "metadata": {}
    },
    {
      "cell_type": "code",
      "source": "!pip install pandas\n!pip install ipython-sql prettytable\n\nimport prettytable\nprettytable.DEFAULT = 'DEFAULT'",
      "metadata": {
        "trusted": true
      },
      "outputs": [],
      "execution_count": null
    },
    {
      "cell_type": "code",
      "source": "# First we install dependencies and connect to database \nimport csv, sqlite3, pandas \n\ncon = sqlite3.connect(\"FinalDB.db\")\ncur = con.cursor()",
      "metadata": {
        "trusted": true
      },
      "outputs": [],
      "execution_count": null
    },
    {
      "cell_type": "code",
      "source": "%load_ext sql\n\n%sql sqlite:///FinalDB.db",
      "metadata": {
        "trusted": true
      },
      "outputs": [],
      "execution_count": null
    },
    {
      "cell_type": "markdown",
      "source": "Using Pandas, we load the data available in the links above to dataframes. Then Use these dataframes to load data on to the database FinalDB.db as tables.",
      "metadata": {}
    },
    {
      "cell_type": "code",
      "source": "df1 = pandas.read_csv(\"https://cf-courses-data.s3.us.cloud-object-storage.appdomain.cloud/IBMDeveloperSkillsNetwork-DB0201EN-SkillsNetwork/labs/FinalModule_Coursera_V5/data/ChicagoCensusData.csv?utm_medium=Exinfluencer&utm_source=Exinfluencer&utm_content=000026UJ&utm_term=10006555&utm_id=NA-SkillsNetwork-Channel-SkillsNetworkCoursesIBMDeveloperSkillsNetworkDB0201ENSkillsNetwork20127838-2021-01-01\")\ndf1.to_sql(\"CENSUS_DATA\", con, if_exists=\"replace\", index=False, method='multi')\ndf2 = pandas.read_csv(\"https://cf-courses-data.s3.us.cloud-object-storage.appdomain.cloud/IBMDeveloperSkillsNetwork-DB0201EN-SkillsNetwork/labs/FinalModule_Coursera_V5/data/ChicagoPublicSchools.csv?utm_medium=Exinfluencer&utm_source=Exinfluencer&utm_content=000026UJ&utm_term=10006555&utm_id=NA-SkillsNetwork-Channel-SkillsNetworkCoursesIBMDeveloperSkillsNetworkDB0201ENSkillsNetwork20127838-2021-01-01\")\ndf2.to_sql('CHICAGO_PUBLIC_SCHOOLS', con, if_exists='replace', index=False, method='multi')\ndf3 = pandas.read_csv(\"https://cf-courses-data.s3.us.cloud-object-storage.appdomain.cloud/IBMDeveloperSkillsNetwork-DB0201EN-SkillsNetwork/labs/FinalModule_Coursera_V5/data/ChicagoCrimeData.csv?utm_medium=Exinfluencer&utm_source=Exinfluencer&utm_content=000026UJ&utm_term=10006555&utm_id=NA-SkillsNetwork-Channel-SkillsNetworkCoursesIBMDeveloperSkillsNetworkDB0201ENSkillsNetwork20127838-2021-01-01\")\ndf3.to_sql('CHICAGO_CRIME_DATA', con, if_exists='replace', index=False, method='multi')\n# three tables created: CENSUS_DATA, CHICAGO_PUBLIC_SCHOOLS, CHICAGO_CRIME_DATA",
      "metadata": {
        "trusted": true
      },
      "outputs": [],
      "execution_count": null
    },
    {
      "cell_type": "code",
      "source": "%sql sqlite:///FinalDB.db",
      "metadata": {
        "trusted": true
      },
      "outputs": [],
      "execution_count": null
    },
    {
      "cell_type": "markdown",
      "source": "Now we Run some simple Queries on our data using SQL Magic ",
      "metadata": {}
    },
    {
      "cell_type": "code",
      "source": "# Show all tables in our dataset\n%sql SELECT name FROM sqlite_master WHERE type='table';",
      "metadata": {
        "trusted": true
      },
      "outputs": [],
      "execution_count": null
    },
    {
      "cell_type": "code",
      "source": "# Total Number of Crime from Crime data Table \n%%sql\nSELECT COUNT(*) AS total_crimes FROM CHICAGO_CRIME_DATA;",
      "metadata": {
        "trusted": true
      },
      "outputs": [],
      "execution_count": null
    },
    {
      "cell_type": "code",
      "source": "# community area names and numbers with per capita income less than 11000.\n%%sql \nSELECT COMMUNITY_AREA_NAME, COMMUNITY_AREA_NUMBER \nFROM CENSUS_DATA\nWHERE PER_CAPITA_INCOME > 11000;",
      "metadata": {
        "trusted": true
      },
      "outputs": [],
      "execution_count": null
    },
    {
      "cell_type": "code",
      "source": "# All crimes involvind a minor \n%sql SELECT * FROM CHICAGO_CRIME_DATA WHERE DESCRIPTION LIKE \"%CHILD%\"",
      "metadata": {
        "trusted": true
      },
      "outputs": [],
      "execution_count": null
    },
    {
      "cell_type": "code",
      "source": "# CRIMES COMMITED AT SCHOOLS, NO REPITIONS \n%sql SELECT DISTINCT * FROM CHICAGO_CRIME_DATA WHERE LOCATION_DESCRIPTION LIKE '%SCHOOL%'",
      "metadata": {
        "trusted": true
      },
      "outputs": [],
      "execution_count": null
    },
    {
      "cell_type": "code",
      "source": "# SCHOOL, TYPE AND avg Safety Score \n%%sql\nSELECT \n    NAME_OF_SCHOOL, \n    \"Elementary, Middle, or High School\", \n    AVG(SAFETY_SCORE) AS AVG_SAFE\nFROM CHICAGO_PUBLIC_SCHOOLS\nWHERE \"Elementary, Middle, or High School\" = 'MS'\nGROUP BY NAME_OF_SCHOOL, \"Elementary, Middle, or High School\";",
      "metadata": {
        "trusted": true
      },
      "outputs": [],
      "execution_count": null
    },
    {
      "cell_type": "code",
      "source": "# top5 community areas with highest % of households below poverty line\n%%sql\nSELECT * \nFROM CENSUS_DATA\nORDER BY PERCENT_HOUSEHOLDS_BELOW_POVERTY DESC\nLIMIT 5;",
      "metadata": {
        "trusted": true
      },
      "outputs": [],
      "execution_count": null
    },
    {
      "cell_type": "code",
      "source": "# Most crime prone community area (i count the number of occurencies)\n%%sql\nSELECT COMMUNITY_AREA_NUMBER, COUNT(*) AS NUM_OCCURRENCES\nFROM CHICAGO_CRIME_DATA\nGROUP BY COMMUNITY_AREA_NUMBER\nORDER BY NUM_OCCURRENCES DESC\nLIMIT 5;",
      "metadata": {
        "trusted": true
      },
      "outputs": [],
      "execution_count": null
    },
    {
      "cell_type": "code",
      "source": "",
      "metadata": {
        "trusted": true
      },
      "outputs": [],
      "execution_count": null
    }
  ]
}