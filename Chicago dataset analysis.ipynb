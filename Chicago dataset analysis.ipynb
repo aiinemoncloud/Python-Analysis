{
  "metadata": {
    "kernelspec": {
      "name": "python",
      "display_name": "Python (Pyodide)",
      "language": "python"
    },
    "language_info": {
      "name": ""
    }
  },
  "nbformat_minor": 4,
  "nbformat": 4,
  "cells": [
    {
      "cell_type": "code",
      "source": "# This code analyses a real dataset released by The city of Chicago to the Chicago City Portal. This dataset contains a selection of six socioeconomic indicators of public health significance and a “hardship index,” for each Chicago community area, for the years 2008 – 2012.",
      "metadata": {
        "trusted": true
      },
      "outputs": [],
      "execution_count": null
    },
    {
      "cell_type": "code",
      "source": "# first we install dependencies and create the database ",
      "metadata": {
        "trusted": true
      },
      "outputs": [],
      "execution_count": null
    },
    {
      "cell_type": "code",
      "source": "!pip install ipython-sql\n%load_ext sql",
      "metadata": {
        "trusted": true
      },
      "outputs": [],
      "execution_count": null
    },
    {
      "cell_type": "code",
      "source": "import csv, sqlite3\n\ncon = sqlite3.connect(\"socioeconomic.db\")\ncur = con.cursor()\n!pip install pandas ",
      "metadata": {
        "trusted": true
      },
      "outputs": [],
      "execution_count": null
    },
    {
      "cell_type": "code",
      "source": "%sql sqlite:///socioeconomic.db",
      "metadata": {
        "trusted": true
      },
      "outputs": [],
      "execution_count": null
    },
    {
      "cell_type": "markdown",
      "source": "# Storing the dataset in a Table using Pandas Dataframe ",
      "metadata": {}
    },
    {
      "cell_type": "code",
      "source": "import pandas\ndf = pandas.read_csv('https://data.cityofchicago.org/resource/jcxq-k9xf.csv')\ndf.to_sql(\"chicago_socioeconomic_data\", con, if_exists='replace', index=False,method=\"multi\")\n",
      "metadata": {
        "trusted": true
      },
      "outputs": [],
      "execution_count": null
    },
    {
      "cell_type": "code",
      "source": "# Install the 'ipython-sql' and 'prettytable' libraries using pip\n!pip install ipython-sql prettytable\n\n# Import the 'prettytable' library, which is used to display data in a formatted table\nimport prettytable\n\n# Set the default display format for prettytable to 'DEFAULT' (i.e., a simple table format)\nprettytable.DEFAULT = 'DEFAULT'\n\n# to verify that out tables are accurate \n%sql SELECT * FROM chicago_socioeconomic_data;",
      "metadata": {
        "trusted": true
      },
      "outputs": [],
      "execution_count": null
    },
    {
      "cell_type": "markdown",
      "source": "# Some basic analysis on dataset",
      "metadata": {}
    },
    {
      "cell_type": "code",
      "source": "# communities with harship index greater than 50\n%sql SELECT COUNT (*) FROM chicago_socioeconomic_data WHERE (hardship_index > 50.0);",
      "metadata": {
        "trusted": true
      },
      "outputs": [],
      "execution_count": null
    },
    {
      "cell_type": "code",
      "source": "# maximum value of hardship index\n%sql SELECT MAX(hardship_index) FROM chicago_socioeconomic_data;",
      "metadata": {
        "trusted": true
      },
      "outputs": [],
      "execution_count": null
    },
    {
      "cell_type": "code",
      "source": "# community with the highest hardship index\n%sql SELECT community_area_name FROM chicago_socioeconomic_data WHERE hardship_index = (SELECT MAX(hardship_index) FROM chicago_socioeconomic_data);\n",
      "metadata": {
        "trusted": true
      },
      "outputs": [],
      "execution_count": null
    },
    {
      "cell_type": "code",
      "source": "# communities with percapita income greater than $60,000\n%%sql SELECT community_area_name, per_capita_income_ \nFROM chicago_socioeconomic_data \nWHERE per_capita_income_ > 60000;",
      "metadata": {
        "trusted": true
      },
      "outputs": [],
      "execution_count": null
    },
    {
      "cell_type": "code",
      "source": "!pip install matplotlib\n!pip install seaborn\n\n\nimport matplotlib.pyplot as plt\n%matplotlib inline\nimport seaborn as sns\n\n# Run the SQL query and store the result in a variable\nincome_vs_hardship = %sql SELECT per_capita_income_, hardship_index FROM chicago_socioeconomic_data;\n\n# Convert the result to a Pandas DataFrame\ndf = income_vs_hardship.DataFrame()\n\n# Create a jointplot to visualize the relationship\nplot = sns.jointplot(x='per_capita_income_', y='hardship_index', data=df, kind='scatter')\n\n# Show the plot\nplt.show()",
      "metadata": {
        "trusted": true
      },
      "outputs": [],
      "execution_count": null
    },
    {
      "cell_type": "code",
      "source": "",
      "metadata": {
        "trusted": true
      },
      "outputs": [],
      "execution_count": null
    }
  ]
}